{
 "cells": [
  {
   "cell_type": "code",
   "execution_count": 11,
   "metadata": {},
   "outputs": [
    {
     "name": "stdout",
     "output_type": "stream",
     "text": [
      "\n",
      "CREATE TABLE alidata (\n",
      "\t\"index\" INTEGER, \n",
      "\tuser INTEGER, \n",
      "\tbrand INTEGER, \n",
      "\tbehavr INTEGER, \n",
      "\tdate TEXT\n",
      ")\n",
      "\n",
      "/*\n",
      "3 rows from alidata table:\n",
      "index\tuser\tbrand\tbehavr\tdate\n",
      "0\t10944750\t13451\t0\t06/04\n",
      "1\t10944750\t13451\t2\t06/04\n",
      "2\t10944750\t13451\t2\t06/04\n",
      "*/\n"
     ]
    }
   ],
   "source": [
    "from langchain_community.chat_models import ChatZhipuAI\n",
    "\n",
    "ZHIPUAI_API_KEY = \"0f2f6aca4fb384e90505b066a1ddf204.hM6JYEdsgvTYLxWz\"\n",
    "llm = ChatZhipuAI(\n",
    "    temperature=0.1,\n",
    "    api_key=ZHIPUAI_API_KEY,\n",
    "    model_name=\"glm-4\",\n",
    ")\n",
    "\n",
    "from langchain_community.utilities import SQLDatabase\n",
    "db = SQLDatabase.from_uri(\"sqlite:///G:/Python Project/llm+sql/ali_langchain.db\")\n",
    "\n",
    "def get_schema(_):\n",
    "    return db.get_table_info()\n",
    "    \n",
    "def run_query(query):\n",
    "    return db.run(query)\n",
    "\n",
    "result = run_query(\"SELECT COUNT(*) FROM alidata\")\n",
    "print(db.get_table_info())"
   ]
  },
  {
   "cell_type": "code",
   "execution_count": 8,
   "metadata": {},
   "outputs": [],
   "source": [
    "from langchain.prompts import PromptTemplate\n",
    "from langchain_core.output_parsers import StrOutputParser\n",
    "from langchain_core.runnables import RunnablePassthrough\n",
    "from langchain_core.runnables import RunnableLambda\n",
    "\n",
    "template_sql = (\n",
    "    \"请通过写sql代码来回答对应问题，并且需要基于如下数据库信息：{info}\\n\"\n",
    "    \"需要回答的问题是：{question}\\n\"\n",
    "    \"注意仅需要通过sql代码回答，不需要文字\\n\"\n",
    "    \"代码形式如下：\\n\"\n",
    "    \"```sql\\n\"\n",
    "    \"...\\n\"\n",
    "    \"```\"\n",
    ")\n",
    "t_sql=PromptTemplate.from_template(template_sql)\n",
    "\n",
    "def get_sql(x):\n",
    "    return x.split(\"```sql\")[1].split(\"```\")[0]\n",
    "\n",
    "chain_sql=({\"info\":get_schema,\"question\":RunnablePassthrough()}\n",
    "           |t_sql\n",
    "           |llm\n",
    "           |StrOutputParser()\n",
    "           |RunnableLambda(get_sql))\n",
    "\n",
    "template_sql0=(\n",
    "    \"请通过综合如下的数据库信息，问题，sql代码，sql代码的执行结果给出问题的自然语言回答：\\n\" \n",
    "    \"数据库信息{info} \\n\"\n",
    "    \"需要回答问题是：{question} \\n\" \n",
    "    \"sql代码：{query} \\n\" \n",
    "    \"sql代码执行结果: {res}\"\n",
    ")\n",
    "t_sql0=PromptTemplate.from_template(template_sql0)\n",
    "\n",
    "chain_sql0=({\"info\":get_schema,\"question\":RunnablePassthrough(),\"query\":chain_sql}\n",
    "            |RunnablePassthrough.assign(res=lambda x: run_query(x[\"query\"]))\n",
    "            |t_sql0\n",
    "            |llm\n",
    "            |StrOutputParser())"
   ]
  },
  {
   "cell_type": "code",
   "execution_count": 15,
   "metadata": {},
   "outputs": [
    {
     "data": {
      "text/plain": [
       "'\\nSELECT user, MAX(date) AS latest_date\\nFROM alidata\\nGROUP BY user\\nORDER BY latest_date DESC\\nLIMIT 1;\\n'"
      ]
     },
     "execution_count": 15,
     "metadata": {},
     "output_type": "execute_result"
    }
   ],
   "source": [
    "chain_sql.invoke(\"date最高的是哪一个客户？，是多少？\")"
   ]
  },
  {
   "cell_type": "code",
   "execution_count": 16,
   "metadata": {},
   "outputs": [
    {
     "data": {
      "text/plain": [
       "\"根据提供的数据库信息以及执行的SQL代码及结果，可以得出以下自然语言回答：\\n\\n在alidata表中，日期（date）最高的客户是用户编号为12386500的客户，其最高日期记录为'08/15'。\""
      ]
     },
     "execution_count": 16,
     "metadata": {},
     "output_type": "execute_result"
    }
   ],
   "source": [
    "chain_sql0.invoke(\"date最高的是哪一个客户？是多少？\")"
   ]
  }
 ],
 "metadata": {
  "kernelspec": {
   "display_name": "Python 3",
   "language": "python",
   "name": "python3"
  },
  "language_info": {
   "codemirror_mode": {
    "name": "ipython",
    "version": 3
   },
   "file_extension": ".py",
   "mimetype": "text/x-python",
   "name": "python",
   "nbconvert_exporter": "python",
   "pygments_lexer": "ipython3",
   "version": "3.11.7"
  }
 },
 "nbformat": 4,
 "nbformat_minor": 2
}
