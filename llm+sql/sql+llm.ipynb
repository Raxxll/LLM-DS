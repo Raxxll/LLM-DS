{
 "cells": [
  {
   "cell_type": "code",
   "execution_count": 52,
   "metadata": {},
   "outputs": [],
   "source": [
    "from langchain_community.chat_models import ChatZhipuAI\n",
    "from dotenv import load_dotenv\n",
    "import os\n",
    "\n",
    "load_dotenv()\n",
    "key = os.getenv('ZHIPUAI_API_KEY')"
   ]
  },
  {
   "cell_type": "markdown",
   "metadata": {},
   "source": [
    "## DB类格式"
   ]
  },
  {
   "cell_type": "code",
   "execution_count": 53,
   "metadata": {},
   "outputs": [],
   "source": [
    "llm = ChatZhipuAI(\n",
    "    temperature=0.1,\n",
    "    api_key=key,\n",
    "    model_name=\"glm-4\",\n",
    ")\n",
    "\n",
    "# from langchain_community.utilities import SQLDatabase\n",
    "# db = SQLDatabase.from_uri(\"sqlite:///G:/Python Project/llm+sql/ali_langchain.db\")\n",
    "# \n",
    "# def get_schema(_):\n",
    "    # return db.get_table_info()\n",
    "    # \n",
    "# def run_query(query):\n",
    "    # return db.run(query)\n",
    "# \n",
    "# result = run_query(\"SELECT COUNT(*) FROM alidata\")\n",
    "# print(result)\n",
    "# print(db.get_table_info())"
   ]
  },
  {
   "cell_type": "markdown",
   "metadata": {},
   "source": [
    "## Join表格的实现"
   ]
  },
  {
   "cell_type": "code",
   "execution_count": null,
   "metadata": {},
   "outputs": [],
   "source": [
    "# import pandas as pd\n",
    "# import sqlite3\n",
    "# \n",
    "\n",
    "# data1 = pd.read_csv('file1.csv')\n",
    "# \n",
    "\n",
    "# data2 = pd.read_csv('file2.csv')\n",
    "#\n",
    "# joined_data = pd.merge(data1, data2, on='id')\n",
    "#\n",
    "# data_db = \"merged_data.db\"  # 你希望保存的数据库文件路径\n",
    "# conn = sqlite3.connect(data_db)\n",
    "# \n",
    "# joined_data.to_sql('merged_table', conn, if_exists='replace', index=False)\n",
    "# \n",
    "# print(f\"CSV文件已成功合并并转换为SQLite数据库文件，保存路径为：{data_db}\")\n"
   ]
  },
  {
   "cell_type": "markdown",
   "metadata": {},
   "source": [
    "## csv格式转db格式"
   ]
  },
  {
   "cell_type": "code",
   "execution_count": 42,
   "metadata": {},
   "outputs": [
    {
     "name": "stdout",
     "output_type": "stream",
     "text": [
      "CSV 文件已成功转换为 SQLite 数据库文件，保存路径为：imdb_movies2.db\n"
     ]
    }
   ],
   "source": [
    "from langchain_community.utilities import SQLDatabase\n",
    "import pandas as pd\n",
    "import sqlite3\n",
    "\n",
    "data = pd.read_csv('imdb_movies2.csv')\n",
    "data_db = \"imdb_movies2.db\"  # 更新为你希望保存的数据库文件路径\n",
    "conn = sqlite3.connect(data_db)\n",
    "\n",
    "print(f\"CSV 文件已成功转换为 SQLite 数据库文件，保存路径为：{data_db}\")\n",
    "\n",
    "table_name = \"imdb2\"  # 更新为你希望在数据库中使用的表名\n",
    "data.to_sql(table_name, conn, if_exists='replace', index=False)\n",
    "conn.close()"
   ]
  },
  {
   "cell_type": "code",
   "execution_count": null,
   "metadata": {},
   "outputs": [],
   "source": [
    "db = SQLDatabase.from_uri(\"sqlite:///G:/Python Project/llm+sql/imdb_movies2.db\")\n",
    "\n",
    "def get_schema(_):\n",
    "   return db.get_table_info()\n",
    "  # \n",
    "def run_query(query):\n",
    "   return db.run(query)\n",
    "# \n",
    "\n",
    "result = run_query(\"SELECT COUNT(*) FROM imdb2\")\n",
    "print(result)\n",
    "print(db.get_table_info())\n"
   ]
  },
  {
   "cell_type": "code",
   "execution_count": 50,
   "metadata": {},
   "outputs": [],
   "source": [
    "from langchain_core.output_parsers import StrOutputParser \n",
    "from langchain_core.runnables import RunnablePassthrough\n",
    "from langchain_core.runnables import RunnableLambda\n",
    "from langchain.prompts import PromptTemplate\n",
    "\n",
    "template_sql = (\n",
    "    \"请通过写sql代码来回答对应问题，并且需要基于如下数据库信息：{info}\\n\"\n",
    "    \"需要回答的问题是：{question}\\n\"\n",
    "    \"注意仅需要通过sql代码回答，不需要文字\\n\"\n",
    "    \"代码形式如下：```sql\\n...\\n```\"\n",
    ")\n",
    "\n",
    "t_sql=PromptTemplate.from_template(template_sql)\n",
    "\n",
    "def get_sql(x):\n",
    "    return x.split(\"```sql\")[1].split(\"```\")[0]\n",
    "\n",
    "chain_sql=({\"info\":get_schema,\"question\":RunnablePassthrough()}\n",
    "           |t_sql\n",
    "           |llm\n",
    "           |StrOutputParser()\n",
    "           |RunnableLambda(get_sql))\n",
    "template_sql0 = (\n",
    "    \"请通过综合如下的数据库信息回答问题。问题,sql代码，sql代码的执行结果给出问题的自然语言回答。\\n\"\n",
    "    \"数据库信息{info}\\n\"\n",
    "    \"需要回答的问题是：{question}\\n\"\n",
    "    \"sql代码: {query}\\n\"\n",
    "    \"sql代码执行结果: {res}\"\n",
    ")\n",
    "\n",
    "t_sql0=PromptTemplate.from_template(template_sql0)\n",
    "chain_sql0=({\"info\":get_schema,\"question\":RunnablePassthrough(),\"query\":chain_sql}\n",
    "            |RunnablePassthrough.assign(res=lambda x: run_query(x[\"query\"]))\n",
    "            |t_sql0\n",
    "            |llm\n",
    "            |StrOutputParser())"
   ]
  },
  {
   "cell_type": "code",
   "execution_count": 83,
   "metadata": {},
   "outputs": [],
   "source": [
    "question = '找出所有时间最古老电影5名'"
   ]
  },
  {
   "cell_type": "code",
   "execution_count": 84,
   "metadata": {},
   "outputs": [
    {
     "data": {
      "text/plain": [
       "'\\nSELECT * \\nFROM imdb2 \\nORDER BY date_x ASC \\nLIMIT 5;\\n'"
      ]
     },
     "execution_count": 84,
     "metadata": {},
     "output_type": "execute_result"
    }
   ],
   "source": [
    "chain_sql.invoke(question)"
   ]
  },
  {
   "cell_type": "code",
   "execution_count": 85,
   "metadata": {},
   "outputs": [
    {
     "name": "stdout",
     "output_type": "stream",
     "text": [
      "根据提供的数据库信息以及执行的SQL代码结果，以下是时间最古老的5部电影：\n",
      "\n",
      "1. 《尼罗河的宝石》(The Jewel of the Nile)，上映日期为1986年1月1日。\n",
      "2. 《星际迷航：起义》(Star Trek: Insurrection)，上映日期为1999年1月1日。\n",
      "3. 《少年派的奇幻漂流》(Life of Pi)，上映日期为2013年1月1日。\n",
      "4. 《阿呆与阿瓜2》(Dumb and Dumber To)，上映日期为2015年1月1日。\n",
      "5. 《疯狂世界》(Rat Race)，上映日期为2002年3月1日。\n",
      "\n",
      "请注意，这些电影的上映日期是根据提供的SQL查询结果列出的，实际上这些日期可能并不是最准确的发布日期，因为它们显示为\"01/01/xxxx\"格式，这可能是一个默认或错误的日期输入。然而，根据这个数据，上述列表是按照时间顺序排列的，显示了最古老的电影。\n"
     ]
    }
   ],
   "source": [
    "result = chain_sql0.invoke(question)\n",
    "print(result)"
   ]
  }
 ],
 "metadata": {
  "kernelspec": {
   "display_name": "Python 3",
   "language": "python",
   "name": "python3"
  },
  "language_info": {
   "codemirror_mode": {
    "name": "ipython",
    "version": 3
   },
   "file_extension": ".py",
   "mimetype": "text/x-python",
   "name": "python",
   "nbconvert_exporter": "python",
   "pygments_lexer": "ipython3",
   "version": "3.11.7"
  }
 },
 "nbformat": 4,
 "nbformat_minor": 2
}
