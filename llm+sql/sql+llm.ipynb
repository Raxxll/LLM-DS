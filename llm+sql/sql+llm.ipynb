{
 "cells": [
  {
   "cell_type": "code",
   "execution_count": 14,
   "metadata": {},
   "outputs": [
    {
     "name": "stdout",
     "output_type": "stream",
     "text": [
      "None\n"
     ]
    }
   ],
   "source": [
    "from langchain_community.chat_models import ChatZhipuAI\n",
    "from dotenv import load_dotenv\n",
    "import os\n",
    "\n",
    "load_dotenv()\n",
    "key = os.getenv(\"ZHIPUAI_API_KEY\")\n",
    "print(key)\n",
    "\n"
   ]
  },
  {
   "cell_type": "code",
   "execution_count": 8,
   "metadata": {},
   "outputs": [
    {
     "ename": "ValidationError",
     "evalue": "1 validation error for ChatZhipuAI\n__root__\n  Did not find zhipuai_api_key, please add an environment variable `ZHIPUAI_API_KEY` which contains it, or pass `zhipuai_api_key` as a named parameter. (type=value_error)",
     "output_type": "error",
     "traceback": [
      "\u001b[1;31m---------------------------------------------------------------------------\u001b[0m",
      "\u001b[1;31mValidationError\u001b[0m                           Traceback (most recent call last)",
      "Cell \u001b[1;32mIn[8], line 1\u001b[0m\n\u001b[1;32m----> 1\u001b[0m llm \u001b[38;5;241m=\u001b[39m ChatZhipuAI(\n\u001b[0;32m      2\u001b[0m     temperature\u001b[38;5;241m=\u001b[39m\u001b[38;5;241m0.1\u001b[39m,\n\u001b[0;32m      3\u001b[0m     api_key\u001b[38;5;241m=\u001b[39mkey,\n\u001b[0;32m      4\u001b[0m     model_name\u001b[38;5;241m=\u001b[39m\u001b[38;5;124m\"\u001b[39m\u001b[38;5;124mglm-4\u001b[39m\u001b[38;5;124m\"\u001b[39m,\n\u001b[0;32m      5\u001b[0m )\n\u001b[0;32m      7\u001b[0m \u001b[38;5;28;01mfrom\u001b[39;00m \u001b[38;5;21;01mlangchain_community\u001b[39;00m\u001b[38;5;21;01m.\u001b[39;00m\u001b[38;5;21;01mutilities\u001b[39;00m \u001b[38;5;28;01mimport\u001b[39;00m SQLDatabase\n\u001b[0;32m      8\u001b[0m db \u001b[38;5;241m=\u001b[39m SQLDatabase\u001b[38;5;241m.\u001b[39mfrom_uri(\u001b[38;5;124m\"\u001b[39m\u001b[38;5;124msqlite:///G:/Python Project/llm+sql/ali_langchain.db\u001b[39m\u001b[38;5;124m\"\u001b[39m)\n",
      "File \u001b[1;32mg:\\anaconda\\Lib\\site-packages\\pydantic\\main.py:341\u001b[0m, in \u001b[0;36mpydantic.main.BaseModel.__init__\u001b[1;34m()\u001b[0m\n",
      "\u001b[1;31mValidationError\u001b[0m: 1 validation error for ChatZhipuAI\n__root__\n  Did not find zhipuai_api_key, please add an environment variable `ZHIPUAI_API_KEY` which contains it, or pass `zhipuai_api_key` as a named parameter. (type=value_error)"
     ]
    }
   ],
   "source": [
    "llm = ChatZhipuAI(\n",
    "    temperature=0.1,\n",
    "    api_key=key,\n",
    "    model_name=\"glm-4\",\n",
    ")\n",
    "\n",
    "from langchain_community.utilities import SQLDatabase\n",
    "db = SQLDatabase.from_uri(\"sqlite:///G:/Python Project/llm+sql/ali_langchain.db\")\n",
    "\n",
    "def get_schema(_):\n",
    "    return db.get_table_info()\n",
    "    \n",
    "def run_query(query):\n",
    "    return db.run(query)\n",
    "\n",
    "result = run_query(\"SELECT COUNT(*) FROM alidata\")\n",
    "print(result)\n",
    "print(db.get_table_info())"
   ]
  },
  {
   "cell_type": "code",
   "execution_count": 41,
   "metadata": {},
   "outputs": [],
   "source": [
    "from langchain_core.output_parsers import StrOutputParser \n",
    "from langchain_core.runnables import RunnablePassthrough\n",
    "from langchain_core.runnables import RunnableLambda\n",
    "from langchain.prompts import PromptTemplate\n",
    "\n",
    "template_sql = (\n",
    "    \"请通过写sql代码来回答对应问题，并且需要基于如下数据库信息：{info}\\n\"\n",
    "    \"需要回答的问题是：{question}\\n\"\n",
    "    \"注意仅需要通过sql代码回答，不需要文字\\n\"\n",
    "    \"代码形式如下：```sql\\n...\\n```\"\n",
    ")\n",
    "\n",
    "t_sql=PromptTemplate.from_template(template_sql)\n",
    "\n",
    "def get_sql(x):\n",
    "    return x.split(\"```sql\")[1].split(\"```\")[0]\n",
    "\n",
    "chain_sql=({\"info\":get_schema,\"question\":RunnablePassthrough()}\n",
    "           |t_sql\n",
    "           |llm\n",
    "           |StrOutputParser()\n",
    "           |RunnableLambda(get_sql))\n",
    "template_sql0 = (\n",
    "    \"请通过综合如下的数据库信息回答问题。问题,sql代码，sql代码的执行结果给出问题的自然语言回答。\\n\"\n",
    "    \"数据库信息{info}\\n\"\n",
    "    \"需要回答的问题是：{question}\\n\"\n",
    "    \"sql代码: {query}\\n\"\n",
    "    \"sql代码执行结果: {res}\"\n",
    ")\n",
    "\n",
    "t_sql0=PromptTemplate.from_template(template_sql0)\n",
    "chain_sql0=({\"info\":get_schema,\"question\":RunnablePassthrough(),\"query\":chain_sql}\n",
    "            |RunnablePassthrough.assign(res=lambda x: run_query(x[\"query\"]))\n",
    "            |t_sql0\n",
    "            |llm\n",
    "            |StrOutputParser())"
   ]
  },
  {
   "cell_type": "code",
   "execution_count": 46,
   "metadata": {},
   "outputs": [
    {
     "data": {
      "text/plain": [
       "'\\nSELECT user, behavr, COUNT(*) as behavr_count\\nFROM alidata\\nGROUP BY user, behavr\\nORDER BY behavr_count DESC, behavr DESC\\nLIMIT 1;\\n'"
      ]
     },
     "execution_count": 46,
     "metadata": {},
     "output_type": "execute_result"
    }
   ],
   "source": [
    "chain_sql.invoke(\"帮我查询具有最多的behavior是哪个用户？有几条?\")"
   ]
  },
  {
   "cell_type": "code",
   "execution_count": 47,
   "metadata": {},
   "outputs": [
    {
     "data": {
      "text/plain": [
       "'根据提供的SQL代码执行结果，查询到具有最多behavior记录的用户是用户编号为2940000，其行为（behavr）为0的记录共有2376条。这是在所有用户中，针对单一行为类型数量最多的记录。'"
      ]
     },
     "execution_count": 47,
     "metadata": {},
     "output_type": "execute_result"
    }
   ],
   "source": [
    "chain_sql0.invoke(\"帮我查询具有最多的behavior是哪个用户？有几条?\")"
   ]
  }
 ],
 "metadata": {
  "kernelspec": {
   "display_name": "Python 3",
   "language": "python",
   "name": "python3"
  },
  "language_info": {
   "codemirror_mode": {
    "name": "ipython",
    "version": 3
   },
   "file_extension": ".py",
   "mimetype": "text/x-python",
   "name": "python",
   "nbconvert_exporter": "python",
   "pygments_lexer": "ipython3",
   "version": "3.11.7"
  }
 },
 "nbformat": 4,
 "nbformat_minor": 2
}
